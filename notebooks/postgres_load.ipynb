{
 "cells": [
  {
   "cell_type": "code",
   "execution_count": 18,
   "metadata": {},
   "outputs": [],
   "source": [
    "import asyncio\n",
    "from dotenv import load_dotenv\n",
    "import pandas as pd"
   ]
  },
  {
   "cell_type": "code",
   "execution_count": 19,
   "metadata": {},
   "outputs": [],
   "source": [
    "import os\n",
    "import sys\n",
    "sys.path.append(os.path.abspath('../scripts'))\n",
    "\n"
   ]
  },
  {
   "cell_type": "code",
   "execution_count": 20,
   "metadata": {},
   "outputs": [],
   "source": [
    "from load_data import load_data_from_postgres,load_data_using_sqlalchemy"
   ]
  },
  {
   "cell_type": "code",
   "execution_count": 21,
   "metadata": {},
   "outputs": [
    {
     "name": "stdout",
     "output_type": "stream",
     "text": [
      "An error occurred: invalid literal for int() with base 10: '{DB_PORT}'\n"
     ]
    }
   ],
   "source": [
    "# #define aql query\n",
    "query = 'SELECT * FROM xdr_data:'\n",
    "\n",
    "#load data from postgresql\n",
    "df = load_data_using_sqlalchemy(query)\n",
    "\n",
    "# Example to execute the function, using asyncio\n",
    "# async def main():\n",
    "#     query = \"SELECT * FROM xdr_data\"\n",
    "#     df = await load_data_from_postgres(query)\n",
    "#     print(df)\n",
    "#     # If you want to run the main function, you can use asyncio.run to do it\n",
    "#     if __name__ == '__main__':\n",
    "#         asyncio.run(main())"
   ]
  },
  {
   "cell_type": "code",
   "execution_count": 22,
   "metadata": {},
   "outputs": [],
   "source": [
    "df"
   ]
  }
 ],
 "metadata": {
  "kernelspec": {
   "display_name": "tellco",
   "language": "python",
   "name": "python3"
  },
  "language_info": {
   "codemirror_mode": {
    "name": "ipython",
    "version": 3
   },
   "file_extension": ".py",
   "mimetype": "text/x-python",
   "name": "python",
   "nbconvert_exporter": "python",
   "pygments_lexer": "ipython3",
   "version": "3.13.1"
  }
 },
 "nbformat": 4,
 "nbformat_minor": 2
}
